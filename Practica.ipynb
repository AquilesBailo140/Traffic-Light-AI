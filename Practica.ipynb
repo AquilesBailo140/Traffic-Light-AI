{
 "cells": [
  {
   "cell_type": "markdown",
   "metadata": {},
   "source": [
    "# Tarea #1"
   ]
  },
  {
   "cell_type": "code",
   "execution_count": 28,
   "metadata": {},
   "outputs": [],
   "source": [
    "using Images"
   ]
  },
  {
   "cell_type": "code",
   "execution_count": 29,
   "metadata": {},
   "outputs": [
    {
     "data": {
      "text/plain": [
       "mCircles (generic function with 1 method)"
      ]
     },
     "execution_count": 29,
     "metadata": {},
     "output_type": "execute_result"
    }
   ],
   "source": [
    "function mCircles(a,b,n; grosor = 0)\n",
    "    m = 10000\n",
    "    A = zeros(a,b)\n",
    "    t = LinRange(0,2*pi, m)\n",
    "    \n",
    "    center = zeros(n,2)\n",
    "    center[:, 1] = rand((1:a),n)\n",
    "    center[:, 2] = rand((1:b),n)\n",
    "    \n",
    "    R = a > b ? b/4 : a/4\n",
    "    radio = R*rand(n)\n",
    "    \n",
    "    for i in 1:n\n",
    "        p = round.(Int, radio[i]*cos.(t) + center[i, 1]*ones(m)) \n",
    "        q = round.(Int, radio[i]*sin.(t) + center[i, 2]*ones(m))\n",
    "        for j in 1:m\n",
    "            for k in 0:grosor\n",
    "                if (1 <= p[j] <= a) && (1 <= q[j] <= b)\n",
    "                    A[p[j], q[j]] = 1\n",
    "                end\n",
    "                if (1 <= p[j]+k <= a) && (1 <= q[j] <= b)\n",
    "                    A[p[j]+k, q[j]] = 1\n",
    "                end\n",
    "                if (1 <= p[j] <= a) && (1 <= q[j]+k <= b)\n",
    "                    A[p[j], q[j]+k] = 1\n",
    "                end\n",
    "                if (1 <= p[j]-k <= a) && (1 <= q[j] <= b)\n",
    "                    A[p[j]-k, q[j]] = 1\n",
    "                end\n",
    "                if (1 <= p[j] <= a) && (1 <= q[j]-k <= b)\n",
    "                    A[p[j], q[j]-k] = 1\n",
    "                end\n",
    "            end \n",
    "\n",
    "        end\n",
    "    end\n",
    "    \n",
    "    Gray.(A)\n",
    "end"
   ]
  },
  {
   "cell_type": "code",
   "execution_count": 31,
   "metadata": {},
   "outputs": [],
   "source": [
    "#Definimos la ruta de los archivos de entrenamiento\n",
    "str_train = \"/home/aquilesbailo/Documentos/Proyecto de Tesis/mlight/\"\n",
    "\n",
    "IND = zeros(10000)\n",
    "train = zeros(10000)\n",
    "\n",
    "for i in 1:10000\n",
    "    \n",
    "    #Obtenemos la clase de la imagen\n",
    "    p = convert(Int64, floor(i/1000))\n",
    "    \n",
    "    #Creamos la imagen\n",
    "    img  = mCircles(50,50,p, grosor = 0)\n",
    "    save(str_train*string(i)*\".jpg\",img)\n",
    "    \n",
    "    #Salvamos la clase de cad imagen\n",
    "    IND[i] = i\n",
    "    train[i] = p\n",
    "end\n"
   ]
  },
  {
   "cell_type": "code",
   "execution_count": 35,
   "metadata": {},
   "outputs": [],
   "source": [
    "using DataFrames, CSV"
   ]
  },
  {
   "cell_type": "code",
   "execution_count": 36,
   "metadata": {},
   "outputs": [],
   "source": [
    "Table = DataFrame(Ind = IND, TRAIN = train)\n",
    "CSV.write(\"train_data.csv\", Table);"
   ]
  },
  {
   "cell_type": "code",
   "execution_count": null,
   "metadata": {},
   "outputs": [],
   "source": []
  }
 ],
 "metadata": {
  "kernelspec": {
   "display_name": "Julia 1.5.2",
   "language": "julia",
   "name": "julia-1.5"
  },
  "language_info": {
   "file_extension": ".jl",
   "mimetype": "application/julia",
   "name": "julia",
   "version": "1.5.2"
  }
 },
 "nbformat": 4,
 "nbformat_minor": 4
}
